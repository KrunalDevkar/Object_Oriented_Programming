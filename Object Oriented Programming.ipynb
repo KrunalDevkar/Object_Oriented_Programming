{
 "cells": [
  {
   "cell_type": "code",
   "execution_count": 1,
   "id": "e89b8efb",
   "metadata": {},
   "outputs": [],
   "source": [
    "## Class and Object"
   ]
  },
  {
   "cell_type": "code",
   "execution_count": 2,
   "id": "3607d9ec",
   "metadata": {},
   "outputs": [],
   "source": [
    "i=10"
   ]
  },
  {
   "cell_type": "code",
   "execution_count": 3,
   "id": "0d07e9a4",
   "metadata": {},
   "outputs": [
    {
     "data": {
      "text/plain": [
       "int"
      ]
     },
     "execution_count": 3,
     "metadata": {},
     "output_type": "execute_result"
    }
   ],
   "source": [
    "type(i)"
   ]
  },
  {
   "cell_type": "code",
   "execution_count": 4,
   "id": "d19426ce",
   "metadata": {},
   "outputs": [
    {
     "name": "stdout",
     "output_type": "stream",
     "text": [
      "<class 'int'>\n"
     ]
    }
   ],
   "source": [
    "print(type(i))"
   ]
  },
  {
   "cell_type": "code",
   "execution_count": 5,
   "id": "82fcbf87",
   "metadata": {},
   "outputs": [
    {
     "name": "stdout",
     "output_type": "stream",
     "text": [
      "<class 'float'>\n"
     ]
    }
   ],
   "source": [
    "a=12.56\n",
    "type(a)\n",
    "print(type(a))"
   ]
  },
  {
   "cell_type": "code",
   "execution_count": 6,
   "id": "9f3bc53a",
   "metadata": {},
   "outputs": [],
   "source": [
    "s=\"India\""
   ]
  },
  {
   "cell_type": "code",
   "execution_count": 7,
   "id": "7a3e5e8f",
   "metadata": {},
   "outputs": [
    {
     "data": {
      "text/plain": [
       "str"
      ]
     },
     "execution_count": 7,
     "metadata": {},
     "output_type": "execute_result"
    }
   ],
   "source": [
    "type(s)"
   ]
  },
  {
   "cell_type": "code",
   "execution_count": 8,
   "id": "6a4e689d",
   "metadata": {},
   "outputs": [],
   "source": [
    "t=[]"
   ]
  },
  {
   "cell_type": "code",
   "execution_count": 10,
   "id": "cc041779",
   "metadata": {},
   "outputs": [
    {
     "data": {
      "text/plain": [
       "list"
      ]
     },
     "execution_count": 10,
     "metadata": {},
     "output_type": "execute_result"
    }
   ],
   "source": [
    "type(t)"
   ]
  },
  {
   "cell_type": "code",
   "execution_count": 11,
   "id": "0ffa449a",
   "metadata": {},
   "outputs": [],
   "source": [
    "d={}"
   ]
  },
  {
   "cell_type": "code",
   "execution_count": 12,
   "id": "21636d12",
   "metadata": {},
   "outputs": [
    {
     "data": {
      "text/plain": [
       "dict"
      ]
     },
     "execution_count": 12,
     "metadata": {},
     "output_type": "execute_result"
    }
   ],
   "source": [
    "type(d)"
   ]
  },
  {
   "cell_type": "code",
   "execution_count": 13,
   "id": "2ffedd2f",
   "metadata": {},
   "outputs": [
    {
     "data": {
      "text/plain": [
       "dict_keys([])"
      ]
     },
     "execution_count": 13,
     "metadata": {},
     "output_type": "execute_result"
    }
   ],
   "source": [
    "d.keys()"
   ]
  },
  {
   "cell_type": "code",
   "execution_count": 14,
   "id": "94447e8d",
   "metadata": {},
   "outputs": [
    {
     "data": {
      "text/plain": [
       "builtin_function_or_method"
      ]
     },
     "execution_count": 14,
     "metadata": {},
     "output_type": "execute_result"
    }
   ],
   "source": [
    "type(d.keys)"
   ]
  },
  {
   "cell_type": "code",
   "execution_count": 15,
   "id": "eb8430f5",
   "metadata": {},
   "outputs": [
    {
     "data": {
      "text/plain": [
       "'\\nClass Concept\\nObject\\nInheritance\\nEncapsulation\\nAbstraction\\nPolymorhism\\nMethod Overloading\\nMethod Overriding\\n'"
      ]
     },
     "execution_count": 15,
     "metadata": {},
     "output_type": "execute_result"
    }
   ],
   "source": [
    "'''\n",
    "Class Concept\n",
    "Object\n",
    "Inheritance\n",
    "Encapsulation\n",
    "Abstraction\n",
    "Polymorhism\n",
    "Method Overloading\n",
    "Method Overriding\n",
    "'''"
   ]
  },
  {
   "cell_type": "code",
   "execution_count": 16,
   "id": "7d465a32",
   "metadata": {},
   "outputs": [],
   "source": [
    "class test:\n",
    "    pass"
   ]
  },
  {
   "cell_type": "code",
   "execution_count": 17,
   "id": "8749f527",
   "metadata": {},
   "outputs": [],
   "source": [
    "def fun1():\n",
    "    pass"
   ]
  },
  {
   "cell_type": "code",
   "execution_count": 18,
   "id": "4af1be2d",
   "metadata": {},
   "outputs": [],
   "source": [
    "class person:\n",
    "    pass"
   ]
  },
  {
   "cell_type": "code",
   "execution_count": 19,
   "id": "1afe609e",
   "metadata": {},
   "outputs": [],
   "source": [
    "p1=person()"
   ]
  },
  {
   "cell_type": "code",
   "execution_count": 20,
   "id": "c8a86699",
   "metadata": {},
   "outputs": [
    {
     "data": {
      "text/plain": [
       "<__main__.person at 0x1dead6bcee0>"
      ]
     },
     "execution_count": 20,
     "metadata": {},
     "output_type": "execute_result"
    }
   ],
   "source": [
    "p1"
   ]
  },
  {
   "cell_type": "code",
   "execution_count": 21,
   "id": "5d42ba4b",
   "metadata": {},
   "outputs": [
    {
     "data": {
      "text/plain": [
       "__main__.person"
      ]
     },
     "execution_count": 21,
     "metadata": {},
     "output_type": "execute_result"
    }
   ],
   "source": [
    "type(p1)"
   ]
  },
  {
   "cell_type": "code",
   "execution_count": 22,
   "id": "002278bc",
   "metadata": {},
   "outputs": [],
   "source": [
    "p1.name=\"Rohit\""
   ]
  },
  {
   "cell_type": "code",
   "execution_count": 23,
   "id": "09755511",
   "metadata": {},
   "outputs": [],
   "source": [
    "p1.surname=\"Sharma\""
   ]
  },
  {
   "cell_type": "code",
   "execution_count": 24,
   "id": "efceef72",
   "metadata": {},
   "outputs": [],
   "source": [
    "p1.yob=54545"
   ]
  },
  {
   "cell_type": "code",
   "execution_count": 25,
   "id": "5b67bbec",
   "metadata": {},
   "outputs": [
    {
     "data": {
      "text/plain": [
       "'Rohit'"
      ]
     },
     "execution_count": 25,
     "metadata": {},
     "output_type": "execute_result"
    }
   ],
   "source": [
    "p1.name"
   ]
  },
  {
   "cell_type": "code",
   "execution_count": 26,
   "id": "0c75ea0c",
   "metadata": {},
   "outputs": [
    {
     "data": {
      "text/plain": [
       "'Sharma'"
      ]
     },
     "execution_count": 26,
     "metadata": {},
     "output_type": "execute_result"
    }
   ],
   "source": [
    "p1.surname\n"
   ]
  },
  {
   "cell_type": "code",
   "execution_count": 27,
   "id": "650653f1",
   "metadata": {},
   "outputs": [
    {
     "data": {
      "text/plain": [
       "54545"
      ]
     },
     "execution_count": 27,
     "metadata": {},
     "output_type": "execute_result"
    }
   ],
   "source": [
    "p1.yob"
   ]
  },
  {
   "cell_type": "code",
   "execution_count": 28,
   "id": "e7fabc15",
   "metadata": {},
   "outputs": [
    {
     "data": {
      "text/plain": [
       "'Rohit'"
      ]
     },
     "execution_count": 28,
     "metadata": {},
     "output_type": "execute_result"
    }
   ],
   "source": [
    "p1.name"
   ]
  },
  {
   "cell_type": "code",
   "execution_count": 29,
   "id": "8c49ef1b",
   "metadata": {},
   "outputs": [
    {
     "name": "stdout",
     "output_type": "stream",
     "text": [
      "<__main__.person object at 0x000001DEAD6BCEE0>\n"
     ]
    }
   ],
   "source": [
    "print(p1)"
   ]
  },
  {
   "cell_type": "code",
   "execution_count": 30,
   "id": "95d8618d",
   "metadata": {},
   "outputs": [
    {
     "data": {
      "text/plain": [
       "__main__.person"
      ]
     },
     "execution_count": 30,
     "metadata": {},
     "output_type": "execute_result"
    }
   ],
   "source": [
    "type(p1)"
   ]
  },
  {
   "cell_type": "code",
   "execution_count": 31,
   "id": "96e756b8",
   "metadata": {},
   "outputs": [],
   "source": [
    "class person:\n",
    "    def __init__(self,name,surname,yob):\n",
    "        self.name=\"Sachin\"\n",
    "        self.surname=\"T\"\n",
    "        self.yob=6758"
   ]
  },
  {
   "cell_type": "code",
   "execution_count": 32,
   "id": "48606484",
   "metadata": {},
   "outputs": [],
   "source": [
    "p2=person(\"Laxman\",\"Kumar\",4585)"
   ]
  },
  {
   "cell_type": "code",
   "execution_count": 33,
   "id": "351d3e59",
   "metadata": {},
   "outputs": [
    {
     "data": {
      "text/plain": [
       "'Sachin'"
      ]
     },
     "execution_count": 33,
     "metadata": {},
     "output_type": "execute_result"
    }
   ],
   "source": [
    "p2.name"
   ]
  },
  {
   "cell_type": "code",
   "execution_count": 34,
   "id": "c1ee1d7c",
   "metadata": {},
   "outputs": [
    {
     "data": {
      "text/plain": [
       "'T'"
      ]
     },
     "execution_count": 34,
     "metadata": {},
     "output_type": "execute_result"
    }
   ],
   "source": [
    "p2.surname"
   ]
  },
  {
   "cell_type": "code",
   "execution_count": 35,
   "id": "f791dc74",
   "metadata": {},
   "outputs": [
    {
     "data": {
      "text/plain": [
       "6758"
      ]
     },
     "execution_count": 35,
     "metadata": {},
     "output_type": "execute_result"
    }
   ],
   "source": [
    "p2.yob"
   ]
  },
  {
   "cell_type": "code",
   "execution_count": 36,
   "id": "13a0f899",
   "metadata": {},
   "outputs": [],
   "source": [
    "class person:\n",
    "    def __init__(self,name,surname,yob):\n",
    "        self.name=name\n",
    "        self.surname=surname\n",
    "        self.yob=yob"
   ]
  },
  {
   "cell_type": "code",
   "execution_count": 37,
   "id": "1f9eaef9",
   "metadata": {},
   "outputs": [],
   "source": [
    "p3=person(\"Mohan\",\"Prakash\",85214)"
   ]
  },
  {
   "cell_type": "code",
   "execution_count": 38,
   "id": "20f618f3",
   "metadata": {},
   "outputs": [
    {
     "data": {
      "text/plain": [
       "'Mohan'"
      ]
     },
     "execution_count": 38,
     "metadata": {},
     "output_type": "execute_result"
    }
   ],
   "source": [
    "p3.name"
   ]
  },
  {
   "cell_type": "code",
   "execution_count": 39,
   "id": "f4f9a902",
   "metadata": {},
   "outputs": [
    {
     "data": {
      "text/plain": [
       "'Prakash'"
      ]
     },
     "execution_count": 39,
     "metadata": {},
     "output_type": "execute_result"
    }
   ],
   "source": [
    "p3.surname"
   ]
  },
  {
   "cell_type": "code",
   "execution_count": 40,
   "id": "693deec0",
   "metadata": {},
   "outputs": [
    {
     "data": {
      "text/plain": [
       "85214"
      ]
     },
     "execution_count": 40,
     "metadata": {},
     "output_type": "execute_result"
    }
   ],
   "source": [
    "p3.yob"
   ]
  },
  {
   "cell_type": "code",
   "execution_count": 43,
   "id": "55b721ee",
   "metadata": {},
   "outputs": [],
   "source": [
    "class person2:\n",
    "    def __init__(sample,name,surname,yob):\n",
    "        sample.name=name\n",
    "        sample.surname=surname\n",
    "        sample.yob=yob"
   ]
  },
  {
   "cell_type": "code",
   "execution_count": 44,
   "id": "047d7260",
   "metadata": {},
   "outputs": [],
   "source": [
    "p4=person2(\"Kirna\",\"Kumar\",45784)"
   ]
  },
  {
   "cell_type": "code",
   "execution_count": 45,
   "id": "13d21865",
   "metadata": {},
   "outputs": [
    {
     "data": {
      "text/plain": [
       "'Kirna'"
      ]
     },
     "execution_count": 45,
     "metadata": {},
     "output_type": "execute_result"
    }
   ],
   "source": [
    "p4.name"
   ]
  },
  {
   "cell_type": "code",
   "execution_count": 46,
   "id": "906322d1",
   "metadata": {},
   "outputs": [
    {
     "data": {
      "text/plain": [
       "'Kumar'"
      ]
     },
     "execution_count": 46,
     "metadata": {},
     "output_type": "execute_result"
    }
   ],
   "source": [
    "p4.surname"
   ]
  },
  {
   "cell_type": "code",
   "execution_count": 47,
   "id": "f76a8064",
   "metadata": {},
   "outputs": [
    {
     "data": {
      "text/plain": [
       "45784"
      ]
     },
     "execution_count": 47,
     "metadata": {},
     "output_type": "execute_result"
    }
   ],
   "source": [
    "p4.yob"
   ]
  },
  {
   "cell_type": "code",
   "execution_count": 48,
   "id": "90fa2f72",
   "metadata": {},
   "outputs": [],
   "source": [
    "a=person2(\"Kishor\",\"Anand\",4785654)"
   ]
  },
  {
   "cell_type": "code",
   "execution_count": 49,
   "id": "74fc3fb4",
   "metadata": {},
   "outputs": [
    {
     "data": {
      "text/plain": [
       "'Kishor'"
      ]
     },
     "execution_count": 49,
     "metadata": {},
     "output_type": "execute_result"
    }
   ],
   "source": [
    "a.name"
   ]
  },
  {
   "cell_type": "code",
   "execution_count": 50,
   "id": "c41bc347",
   "metadata": {},
   "outputs": [
    {
     "data": {
      "text/plain": [
       "'Anand'"
      ]
     },
     "execution_count": 50,
     "metadata": {},
     "output_type": "execute_result"
    }
   ],
   "source": [
    "a.surname"
   ]
  },
  {
   "cell_type": "code",
   "execution_count": 51,
   "id": "547059ec",
   "metadata": {},
   "outputs": [
    {
     "data": {
      "text/plain": [
       "4785654"
      ]
     },
     "execution_count": 51,
     "metadata": {},
     "output_type": "execute_result"
    }
   ],
   "source": [
    "a.yob"
   ]
  },
  {
   "cell_type": "code",
   "execution_count": 53,
   "id": "08ee1c6e",
   "metadata": {},
   "outputs": [],
   "source": [
    "class person:\n",
    "    def __init__(self,name,surname,yob):\n",
    "        self.name=name\n",
    "        self.surname=surname\n",
    "        self.yob=yob\n",
    "    def test(self,n,m):\n",
    "        return n+m"
   ]
  },
  {
   "cell_type": "code",
   "execution_count": 55,
   "id": "314afb94",
   "metadata": {},
   "outputs": [],
   "source": [
    "p1=person(\"Mahi\",\"Kumar\",78456)"
   ]
  },
  {
   "cell_type": "code",
   "execution_count": 56,
   "id": "3d289a23",
   "metadata": {},
   "outputs": [
    {
     "data": {
      "text/plain": [
       "'Mahi'"
      ]
     },
     "execution_count": 56,
     "metadata": {},
     "output_type": "execute_result"
    }
   ],
   "source": [
    "p1.name"
   ]
  },
  {
   "cell_type": "code",
   "execution_count": 57,
   "id": "ebe8ca4c",
   "metadata": {},
   "outputs": [
    {
     "data": {
      "text/plain": [
       "'Kumar'"
      ]
     },
     "execution_count": 57,
     "metadata": {},
     "output_type": "execute_result"
    }
   ],
   "source": [
    "p1.surname"
   ]
  },
  {
   "cell_type": "code",
   "execution_count": 58,
   "id": "9d522c60",
   "metadata": {},
   "outputs": [
    {
     "data": {
      "text/plain": [
       "78456"
      ]
     },
     "execution_count": 58,
     "metadata": {},
     "output_type": "execute_result"
    }
   ],
   "source": [
    "p1.yob"
   ]
  },
  {
   "cell_type": "code",
   "execution_count": 59,
   "id": "a5d4fec9",
   "metadata": {},
   "outputs": [
    {
     "data": {
      "text/plain": [
       "3"
      ]
     },
     "execution_count": 59,
     "metadata": {},
     "output_type": "execute_result"
    }
   ],
   "source": [
    "p1.test(1,2)"
   ]
  },
  {
   "cell_type": "code",
   "execution_count": 60,
   "id": "53beec7e",
   "metadata": {},
   "outputs": [],
   "source": [
    "class person:\n",
    "    def __init__(self,name,surname,yob):\n",
    "        self.name=name\n",
    "        self.surname=surname\n",
    "        self.yob=yob\n",
    "    def test(self,n,m):\n",
    "        return n+m\n",
    "    def mul2(self,a,b,c):\n",
    "        return a*b*c"
   ]
  },
  {
   "cell_type": "code",
   "execution_count": 61,
   "id": "9f828aaa",
   "metadata": {},
   "outputs": [],
   "source": [
    "p1=person(\"Mira\",\"Kund\",74568)"
   ]
  },
  {
   "cell_type": "code",
   "execution_count": 62,
   "id": "757ced01",
   "metadata": {},
   "outputs": [
    {
     "data": {
      "text/plain": [
       "'Mira'"
      ]
     },
     "execution_count": 62,
     "metadata": {},
     "output_type": "execute_result"
    }
   ],
   "source": [
    "p1.name"
   ]
  },
  {
   "cell_type": "code",
   "execution_count": 63,
   "id": "bcc9c4f0",
   "metadata": {},
   "outputs": [
    {
     "data": {
      "text/plain": [
       "'Kund'"
      ]
     },
     "execution_count": 63,
     "metadata": {},
     "output_type": "execute_result"
    }
   ],
   "source": [
    "p1.surname"
   ]
  },
  {
   "cell_type": "code",
   "execution_count": 64,
   "id": "f68ecdef",
   "metadata": {},
   "outputs": [
    {
     "data": {
      "text/plain": [
       "74568"
      ]
     },
     "execution_count": 64,
     "metadata": {},
     "output_type": "execute_result"
    }
   ],
   "source": [
    "p1.yob"
   ]
  },
  {
   "cell_type": "code",
   "execution_count": 65,
   "id": "f9bc88bb",
   "metadata": {},
   "outputs": [
    {
     "data": {
      "text/plain": [
       "3"
      ]
     },
     "execution_count": 65,
     "metadata": {},
     "output_type": "execute_result"
    }
   ],
   "source": [
    "p1.test(1,2)"
   ]
  },
  {
   "cell_type": "code",
   "execution_count": 66,
   "id": "938aac13",
   "metadata": {},
   "outputs": [
    {
     "data": {
      "text/plain": [
       "6"
      ]
     },
     "execution_count": 66,
     "metadata": {},
     "output_type": "execute_result"
    }
   ],
   "source": [
    "p1.mul2(1,2,3)"
   ]
  },
  {
   "cell_type": "code",
   "execution_count": 78,
   "id": "803c654e",
   "metadata": {},
   "outputs": [],
   "source": [
    "class person:\n",
    "    def __init__(self,name,surname,yob):\n",
    "        self.name=name\n",
    "        self.surname=surname\n",
    "        self.yob=yob\n",
    "    def test(self,n,m):\n",
    "        return n+m+self.yob"
   ]
  },
  {
   "cell_type": "code",
   "execution_count": 79,
   "id": "42d3e7c8",
   "metadata": {},
   "outputs": [],
   "source": [
    "p1=person(\"Mirak\",\"Kund\",74568)"
   ]
  },
  {
   "cell_type": "code",
   "execution_count": 80,
   "id": "6e01dbdd",
   "metadata": {},
   "outputs": [
    {
     "data": {
      "text/plain": [
       "'Mirak'"
      ]
     },
     "execution_count": 80,
     "metadata": {},
     "output_type": "execute_result"
    }
   ],
   "source": [
    "p1.name"
   ]
  },
  {
   "cell_type": "code",
   "execution_count": 81,
   "id": "81c11856",
   "metadata": {},
   "outputs": [
    {
     "data": {
      "text/plain": [
       "'Kund'"
      ]
     },
     "execution_count": 81,
     "metadata": {},
     "output_type": "execute_result"
    }
   ],
   "source": [
    "p1.surname"
   ]
  },
  {
   "cell_type": "code",
   "execution_count": 82,
   "id": "7cc378e1",
   "metadata": {},
   "outputs": [
    {
     "data": {
      "text/plain": [
       "74568"
      ]
     },
     "execution_count": 82,
     "metadata": {},
     "output_type": "execute_result"
    }
   ],
   "source": [
    "p1.yob"
   ]
  },
  {
   "cell_type": "code",
   "execution_count": 84,
   "id": "18a287c6",
   "metadata": {},
   "outputs": [
    {
     "data": {
      "text/plain": [
       "74571"
      ]
     },
     "execution_count": 84,
     "metadata": {},
     "output_type": "execute_result"
    }
   ],
   "source": [
    "p1.test(1,2)"
   ]
  },
  {
   "cell_type": "code",
   "execution_count": 86,
   "id": "a5e249aa",
   "metadata": {},
   "outputs": [],
   "source": [
    "class person:\n",
    "    def __init__(self,name,surname,yob):\n",
    "        self.name=name\n",
    "        self.surname=surname\n",
    "        self.yob=yob\n",
    "    def test(self,n,m):\n",
    "        return n+m+self.yob\n",
    "    def mul2(self,a,b,c):\n",
    "        return a*b*c\n",
    "    def __str__(self):\n",
    "        return \"%s is first name & surname is %s & YOB is %s\"%(self.name,self.surname,self.yob)"
   ]
  },
  {
   "cell_type": "code",
   "execution_count": 87,
   "id": "0f1c0b33",
   "metadata": {},
   "outputs": [],
   "source": [
    "p=person(\"Sachin\",\"Kumar\",4566)"
   ]
  },
  {
   "cell_type": "code",
   "execution_count": 88,
   "id": "b24a530d",
   "metadata": {},
   "outputs": [
    {
     "data": {
      "text/plain": [
       "'Sachin'"
      ]
     },
     "execution_count": 88,
     "metadata": {},
     "output_type": "execute_result"
    }
   ],
   "source": [
    "p.name"
   ]
  },
  {
   "cell_type": "code",
   "execution_count": 89,
   "id": "f475ae6f",
   "metadata": {},
   "outputs": [
    {
     "data": {
      "text/plain": [
       "'Kumar'"
      ]
     },
     "execution_count": 89,
     "metadata": {},
     "output_type": "execute_result"
    }
   ],
   "source": [
    "p.surname"
   ]
  },
  {
   "cell_type": "code",
   "execution_count": 90,
   "id": "7f9fd6ac",
   "metadata": {},
   "outputs": [
    {
     "data": {
      "text/plain": [
       "4566"
      ]
     },
     "execution_count": 90,
     "metadata": {},
     "output_type": "execute_result"
    }
   ],
   "source": [
    "p.yob"
   ]
  },
  {
   "cell_type": "code",
   "execution_count": 92,
   "id": "8a09aa47",
   "metadata": {},
   "outputs": [
    {
     "data": {
      "text/plain": [
       "4569"
      ]
     },
     "execution_count": 92,
     "metadata": {},
     "output_type": "execute_result"
    }
   ],
   "source": [
    "p.test(1,2)"
   ]
  },
  {
   "cell_type": "code",
   "execution_count": 93,
   "id": "cb1d70f3",
   "metadata": {},
   "outputs": [
    {
     "data": {
      "text/plain": [
       "6"
      ]
     },
     "execution_count": 93,
     "metadata": {},
     "output_type": "execute_result"
    }
   ],
   "source": [
    "p.mul2(1,2,3)"
   ]
  },
  {
   "cell_type": "code",
   "execution_count": 94,
   "id": "a6f6e40e",
   "metadata": {},
   "outputs": [
    {
     "name": "stdout",
     "output_type": "stream",
     "text": [
      "Sachin is first name & surname is Kumar & YOB is 4566\n"
     ]
    }
   ],
   "source": [
    "print(p)"
   ]
  },
  {
   "cell_type": "code",
   "execution_count": 95,
   "id": "0bf51819",
   "metadata": {},
   "outputs": [],
   "source": [
    "class test:\n",
    "    pass"
   ]
  },
  {
   "cell_type": "code",
   "execution_count": 98,
   "id": "561ff577",
   "metadata": {},
   "outputs": [],
   "source": [
    "p5=test()"
   ]
  },
  {
   "cell_type": "code",
   "execution_count": 101,
   "id": "e6bb6916",
   "metadata": {},
   "outputs": [],
   "source": [
    "p5.name=\"A\""
   ]
  },
  {
   "cell_type": "code",
   "execution_count": 102,
   "id": "e44ac0b5",
   "metadata": {},
   "outputs": [],
   "source": [
    "p5.surname=\"B\""
   ]
  },
  {
   "cell_type": "code",
   "execution_count": 103,
   "id": "b9831da6",
   "metadata": {},
   "outputs": [],
   "source": [
    "p5.yob=7878"
   ]
  },
  {
   "cell_type": "code",
   "execution_count": 104,
   "id": "dc6d34f1",
   "metadata": {},
   "outputs": [],
   "source": [
    "class person:\n",
    "    def pass_name(self,name):\n",
    "        self.name=name\n",
    "    def pass_surname(self,surname):\n",
    "        self.surname=surname\n",
    "    def pass_yob(self,yob):\n",
    "        self.yob=yob"
   ]
  },
  {
   "cell_type": "code",
   "execution_count": 105,
   "id": "04dc7f31",
   "metadata": {},
   "outputs": [],
   "source": [
    "p=person()"
   ]
  },
  {
   "cell_type": "code",
   "execution_count": 106,
   "id": "61c8c1a7",
   "metadata": {},
   "outputs": [],
   "source": [
    "p.pass_name(\"Sachin\")"
   ]
  },
  {
   "cell_type": "code",
   "execution_count": 107,
   "id": "6250f0fc",
   "metadata": {},
   "outputs": [],
   "source": [
    "p.pass_surname(\"Kumar\")"
   ]
  },
  {
   "cell_type": "code",
   "execution_count": 108,
   "id": "80efcd29",
   "metadata": {},
   "outputs": [],
   "source": [
    "p.pass_yob(4578)"
   ]
  },
  {
   "cell_type": "code",
   "execution_count": 109,
   "id": "84a31a19",
   "metadata": {},
   "outputs": [
    {
     "data": {
      "text/plain": [
       "'Sachin'"
      ]
     },
     "execution_count": 109,
     "metadata": {},
     "output_type": "execute_result"
    }
   ],
   "source": [
    "p.name"
   ]
  },
  {
   "cell_type": "code",
   "execution_count": 110,
   "id": "f4a80e85",
   "metadata": {},
   "outputs": [
    {
     "data": {
      "text/plain": [
       "'Kumar'"
      ]
     },
     "execution_count": 110,
     "metadata": {},
     "output_type": "execute_result"
    }
   ],
   "source": [
    "p.surname"
   ]
  },
  {
   "cell_type": "code",
   "execution_count": 111,
   "id": "e928af8e",
   "metadata": {},
   "outputs": [
    {
     "data": {
      "text/plain": [
       "4578"
      ]
     },
     "execution_count": 111,
     "metadata": {},
     "output_type": "execute_result"
    }
   ],
   "source": [
    "p.yob"
   ]
  },
  {
   "cell_type": "code",
   "execution_count": 112,
   "id": "5e2fd6f6",
   "metadata": {},
   "outputs": [],
   "source": [
    "## Abstraction"
   ]
  },
  {
   "cell_type": "code",
   "execution_count": 113,
   "id": "85172e62",
   "metadata": {},
   "outputs": [],
   "source": [
    "## Private, Protected, Public"
   ]
  },
  {
   "cell_type": "code",
   "execution_count": 121,
   "id": "f775607c",
   "metadata": {},
   "outputs": [],
   "source": [
    "class person:\n",
    "    def __init__(self,name,surname,yob):\n",
    "        self.__name=name\n",
    "        self._surname=surname\n",
    "        self.yob=yob\n",
    "    def test(self,n,m):\n",
    "        return n+m+self.yob\n",
    "    def __str__(self):\n",
    "        return \"%s is first name & surname is %s & YOB is %s\"%(self.__name,self._surname,self.yob)"
   ]
  },
  {
   "cell_type": "code",
   "execution_count": 122,
   "id": "7a65bd47",
   "metadata": {},
   "outputs": [],
   "source": [
    "p=person(\"Milind\",\"Vaidya\",4578)"
   ]
  },
  {
   "cell_type": "code",
   "execution_count": 123,
   "id": "7c772e38",
   "metadata": {},
   "outputs": [
    {
     "data": {
      "text/plain": [
       "{'_person__name': 'Milind', '_surname': 'Vaidya', 'yob': 4578}"
      ]
     },
     "execution_count": 123,
     "metadata": {},
     "output_type": "execute_result"
    }
   ],
   "source": [
    "p.__dict__"
   ]
  },
  {
   "cell_type": "code",
   "execution_count": 124,
   "id": "a31f8bb4",
   "metadata": {},
   "outputs": [
    {
     "data": {
      "text/plain": [
       "'Milind'"
      ]
     },
     "execution_count": 124,
     "metadata": {},
     "output_type": "execute_result"
    }
   ],
   "source": [
    "p._person__name"
   ]
  },
  {
   "cell_type": "code",
   "execution_count": 125,
   "id": "fe1af1ea",
   "metadata": {},
   "outputs": [
    {
     "data": {
      "text/plain": [
       "'Vaidya'"
      ]
     },
     "execution_count": 125,
     "metadata": {},
     "output_type": "execute_result"
    }
   ],
   "source": [
    "p._surname"
   ]
  },
  {
   "cell_type": "code",
   "execution_count": 126,
   "id": "3b68ce72",
   "metadata": {},
   "outputs": [
    {
     "data": {
      "text/plain": [
       "4578"
      ]
     },
     "execution_count": 126,
     "metadata": {},
     "output_type": "execute_result"
    }
   ],
   "source": [
    "p.yob"
   ]
  },
  {
   "cell_type": "code",
   "execution_count": 127,
   "id": "36707b43",
   "metadata": {},
   "outputs": [
    {
     "name": "stdout",
     "output_type": "stream",
     "text": [
      "Milind is first name & surname is Vaidya & YOB is 4578\n"
     ]
    }
   ],
   "source": [
    "print(p)"
   ]
  },
  {
   "cell_type": "code",
   "execution_count": null,
   "id": "bd97d975",
   "metadata": {},
   "outputs": [],
   "source": []
  }
 ],
 "metadata": {
  "kernelspec": {
   "display_name": "Python 3 (ipykernel)",
   "language": "python",
   "name": "python3"
  },
  "language_info": {
   "codemirror_mode": {
    "name": "ipython",
    "version": 3
   },
   "file_extension": ".py",
   "mimetype": "text/x-python",
   "name": "python",
   "nbconvert_exporter": "python",
   "pygments_lexer": "ipython3",
   "version": "3.9.13"
  }
 },
 "nbformat": 4,
 "nbformat_minor": 5
}
